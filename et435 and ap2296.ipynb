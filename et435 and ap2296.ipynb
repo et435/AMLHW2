{
 "cells": [
  {
   "cell_type": "markdown",
   "metadata": {},
   "source": [
    "# Part A"
   ]
  },
  {
   "cell_type": "code",
   "execution_count": 6,
   "metadata": {},
   "outputs": [],
   "source": [
    "import json\n",
    "import pandas\n",
    "import numpy\n",
    "import sklearn\n",
    "from sklearn import datasets\n",
    "from sklearn.naive_bayes import GaussianNB\n",
    "from sklearn.naive_bayes import BernoulliNB\n",
    "from sklearn.linear_model import LogisticRegression\n",
    "from sklearn import preprocessing\n",
    "\n",
    "\n",
    "\n",
    "parsed_train = pandas.read_json('train.json')\n",
    "parsed_test = pandas.read_json('test.json')"
   ]
  },
  {
   "cell_type": "markdown",
   "metadata": {},
   "source": [
    "# Part B"
   ]
  },
  {
   "cell_type": "code",
   "execution_count": 5,
   "metadata": {},
   "outputs": [
    {
     "name": "stdout",
     "output_type": "stream",
     "text": [
      "There are a total of 39774 sample dishes in the training set.\n"
     ]
    }
   ],
   "source": [
    "trainLength = len(parsed_train)\n",
    "print \"There are a total of \" + str(trainLength) + \" sample dishes in the training set.\""
   ]
  },
  {
   "cell_type": "code",
   "execution_count": 3,
   "metadata": {},
   "outputs": [
    {
     "name": "stdout",
     "output_type": "stream",
     "text": [
      "There are a total of 20 cuisines in the training set.\n"
     ]
    }
   ],
   "source": [
    "cuisineList = []\n",
    "\n",
    "for i in parsed_train[\"cuisine\"]:\n",
    "    if i not in cuisineList:\n",
    "        cuisineList.append(i)\n",
    "\n",
    "cuisineListLength = len(cuisineList)\n",
    "\n",
    "print \"There are a total of \" + str(cuisineListLength) + \" cuisines in the training set.\""
   ]
  },
  {
   "cell_type": "code",
   "execution_count": 4,
   "metadata": {},
   "outputs": [
    {
     "name": "stdout",
     "output_type": "stream",
     "text": [
      "There are a total of 6714 unique ingredients in the training set.\n"
     ]
    }
   ],
   "source": [
    "ingredientList = []\n",
    "\n",
    "for i in parsed_train[\"ingredients\"]:\n",
    "    for j in i:\n",
    "        if j not in ingredientList:\n",
    "            ingredientList.append(j)\n",
    "            \n",
    "ingredientListLength = len(ingredientList)\n",
    "\n",
    "print \"There are a total of \" + str(ingredientListLength) + \" unique ingredients in the training set.\""
   ]
  },
  {
   "cell_type": "markdown",
   "metadata": {},
   "source": [
    "# Part C"
   ]
  },
  {
   "cell_type": "code",
   "execution_count": 6,
   "metadata": {},
   "outputs": [
    {
     "name": "stdout",
     "output_type": "stream",
     "text": [
      "Done!\n"
     ]
    }
   ],
   "source": [
    "matrixTrain = []\n",
    "\n",
    "for i in parsed_train[\"ingredients\"]:\n",
    "    vector = []\n",
    "    for j in ingredientList:\n",
    "        if j in i:\n",
    "            vector.append(1)\n",
    "        else:\n",
    "            vector.append(0)\n",
    "    \n",
    "    matrixTrain.append(vector)\n",
    "   \n",
    "    \n",
    "print \"Done!\"    "
   ]
  },
  {
   "cell_type": "code",
   "execution_count": 7,
   "metadata": {},
   "outputs": [
    {
     "name": "stdout",
     "output_type": "stream",
     "text": [
      "Done!\n"
     ]
    }
   ],
   "source": [
    "matrixTest = []\n",
    "\n",
    "for i in parsed_test[\"ingredients\"]:\n",
    "    vector = []\n",
    "    for j in ingredientList:\n",
    "        if j in i:\n",
    "            vector.append(1)\n",
    "        else:\n",
    "            vector.append(0)\n",
    "    \n",
    "    matrixTest.append(vector)\n",
    "\n",
    "    \n",
    "print \"Done!\"    "
   ]
  },
  {
   "cell_type": "code",
   "execution_count": 8,
   "metadata": {},
   "outputs": [
    {
     "name": "stdout",
     "output_type": "stream",
     "text": [
      "Done!\n"
     ]
    }
   ],
   "source": [
    "labelListRaw = []\n",
    "\n",
    "for i in parsed_train[\"cuisine\"]:\n",
    "    labelListRaw.append(i)\n",
    "    \n",
    "labelEncoded = preprocessing.LabelEncoder()\n",
    "labelEncoded.fit(cuisineList)\n",
    "labelList = labelEncoded.transform(labelListRaw)\n",
    "    \n",
    "    \n",
    "    \n",
    "cvSplitValue = int(trainLength/3)\n",
    "foldTrain1 = matrixTrain[0:cvSplitValue]\n",
    "foldTrain2 = matrixTrain[(cvSplitValue):(2*cvSplitValue)]\n",
    "foldTrain3 = matrixTrain[(2*cvSplitValue):trainLength]\n",
    "foldLabel1 = labelList[0:cvSplitValue]\n",
    "foldLabel2 = labelList[(cvSplitValue):(2*cvSplitValue)]\n",
    "foldLabel3 = labelList[(2*cvSplitValue):trainLength]\n",
    "\n",
    "\n",
    "\n",
    "cvTrainData1 = numpy.concatenate([foldTrain1,foldTrain2])\n",
    "cvTrainLabels1 = numpy.concatenate([foldLabel1,foldLabel2])\n",
    "cvTestData1 = foldTrain3\n",
    "cvTestLabels1 = foldLabel3\n",
    "\n",
    "cvTrainData2 = numpy.concatenate([foldTrain1,foldTrain3])\n",
    "cvTrainLabels2 = numpy.concatenate([foldLabel1,foldLabel3])\n",
    "cvTestData2 = foldTrain2\n",
    "cvTestLabels2 = foldLabel2\n",
    "\n",
    "cvTrainData3 = numpy.concatenate([foldTrain2,foldTrain3])\n",
    "cvTrainLabels3 = numpy.concatenate([foldLabel2,foldLabel3])\n",
    "cvTestData3 = foldTrain1\n",
    "cvTestLabels3 = foldLabel1\n",
    "\n",
    "print \"Done!\""
   ]
  },
  {
   "cell_type": "markdown",
   "metadata": {},
   "source": [
    "# Part D"
   ]
  },
  {
   "cell_type": "code",
   "execution_count": 9,
   "metadata": {},
   "outputs": [
    {
     "name": "stdout",
     "output_type": "stream",
     "text": [
      "Done!\n"
     ]
    }
   ],
   "source": [
    "#GNB Cross Validation Fold 1     \n",
    "\n",
    "gnb = GaussianNB()\n",
    "y_pred = gnb.fit(cvTrainData1, cvTrainLabels1)\n",
    "#training binary values, training encoded labels\n",
    "gnbScore1 = y_pred.score(cvTestData1, cvTestLabels1)\n",
    "#testing binary values, testing encoded labels\n",
    "\n",
    "print \"Done!\""
   ]
  },
  {
   "cell_type": "code",
   "execution_count": 10,
   "metadata": {},
   "outputs": [
    {
     "name": "stdout",
     "output_type": "stream",
     "text": [
      "Done!\n"
     ]
    }
   ],
   "source": [
    "#GNB Cross Validation Fold 2     \n",
    "\n",
    "gnb = GaussianNB()\n",
    "y_pred = gnb.fit(cvTrainData2, cvTrainLabels2)\n",
    "#training binary values, training encoded labels\n",
    "gnbScore2 = y_pred.score(cvTestData2, cvTestLabels2)\n",
    "#testing binary values, testing encoded labels\n",
    "\n",
    "print \"Done!\""
   ]
  },
  {
   "cell_type": "code",
   "execution_count": 11,
   "metadata": {},
   "outputs": [
    {
     "name": "stdout",
     "output_type": "stream",
     "text": [
      "Done!\n"
     ]
    }
   ],
   "source": [
    "#GNB Cross Validation Fold 3     \n",
    "\n",
    "gnb = GaussianNB()\n",
    "y_pred = gnb.fit(cvTrainData3, cvTrainLabels3)\n",
    "#training binary values, training encoded labels\n",
    "gnbScore3 = y_pred.score(cvTestData3, cvTestLabels3)\n",
    "#testing binary values, testing encoded labels\n",
    "\n",
    "print \"Done!\""
   ]
  },
  {
   "cell_type": "code",
   "execution_count": 12,
   "metadata": {},
   "outputs": [
    {
     "name": "stdout",
     "output_type": "stream",
     "text": [
      "Done!\n"
     ]
    }
   ],
   "source": [
    "#BNB Cross Validation Fold 1     \n",
    "\n",
    "bnb = BernoulliNB()\n",
    "y_pred = bnb.fit(cvTrainData1, cvTrainLabels1)\n",
    "#training binary values, training encoded labels\n",
    "bnbScore1 = y_pred.score(cvTestData1, cvTestLabels1)\n",
    "#testing binary values, testing encoded labels\n",
    "\n",
    "print \"Done!\""
   ]
  },
  {
   "cell_type": "code",
   "execution_count": 13,
   "metadata": {},
   "outputs": [
    {
     "name": "stdout",
     "output_type": "stream",
     "text": [
      "Done!\n"
     ]
    }
   ],
   "source": [
    "#BNB Cross Validation Fold 2     \n",
    "\n",
    "bnb = BernoulliNB()\n",
    "y_pred = bnb.fit(cvTrainData2, cvTrainLabels2)\n",
    "#training binary values, training encoded labels\n",
    "bnbScore2 = y_pred.score(cvTestData2, cvTestLabels2)\n",
    "#testing binary values, testing encoded labels\n",
    "\n",
    "print \"Done!\""
   ]
  },
  {
   "cell_type": "code",
   "execution_count": 14,
   "metadata": {},
   "outputs": [
    {
     "name": "stdout",
     "output_type": "stream",
     "text": [
      "Done!\n"
     ]
    }
   ],
   "source": [
    "#BNB Cross Validation Fold 3     \n",
    "\n",
    "bnb = BernoulliNB()\n",
    "y_pred = bnb.fit(cvTrainData3, cvTrainLabels3)\n",
    "#training binary values, training encoded labels\n",
    "bnbScore3 = y_pred.score(cvTestData3, cvTestLabels3)\n",
    "#testing binary values, testing encoded labels\n",
    "\n",
    "print \"Done!\""
   ]
  },
  {
   "cell_type": "code",
   "execution_count": 16,
   "metadata": {},
   "outputs": [
    {
     "name": "stdout",
     "output_type": "stream",
     "text": [
      "The accuracy score for the Naive Baye's Gaussian Classifier is 0.379846130638\n",
      "The accuracy score for the Naive Baye's Bernoulli Classifier is 0.683536983959\n"
     ]
    }
   ],
   "source": [
    "gnbScore = float((gnbScore1 + gnbScore2 + gnbScore3)/3)\n",
    "bnbScore = float((bnbScore1 + bnbScore2 + bnbScore3)/3)\n",
    "\n",
    "print \"The accuracy score for the Naive Baye's Gaussian Classifier is \" + str(gnbScore)\n",
    "print \"The accuracy score for the Naive Baye's Bernoulli Classifier is \" + str(bnbScore)"
   ]
  },
  {
   "cell_type": "markdown",
   "metadata": {},
   "source": [
    "# Part E"
   ]
  },
  {
   "cell_type": "markdown",
   "metadata": {},
   "source": [
    "WHICH?: Bernoulli works better than Gaussian.\n",
    "\n",
    "WHY?: Bernoulli assumes that our features can only take one of two values, which in this case means “the ingredient is used in this dish” or \"the ingredient is not used in this dish\". Gaussian assumes normal distribution, which works best in cases where the features are continuous, which in this case means the ingredients having different degrees of involvement in dishes, which doesn't make sense."
   ]
  },
  {
   "cell_type": "markdown",
   "metadata": {},
   "source": [
    "# Part F"
   ]
  },
  {
   "cell_type": "code",
   "execution_count": 18,
   "metadata": {},
   "outputs": [
    {
     "name": "stdout",
     "output_type": "stream",
     "text": [
      "Done!\n"
     ]
    }
   ],
   "source": [
    "#LogReg Cross Validation Fold 1     \n",
    "\n",
    "logReg = LogisticRegression()\n",
    "y_pred = logReg.fit(cvTrainData1, cvTrainLabels1)\n",
    "#training binary values, training encoded labels\n",
    "logRegScore1 = y_pred.score(cvTestData1, cvTestLabels1)\n",
    "#testing binary values, testing encoded labels\n",
    "\n",
    "print \"Done!\""
   ]
  },
  {
   "cell_type": "code",
   "execution_count": 19,
   "metadata": {},
   "outputs": [
    {
     "name": "stdout",
     "output_type": "stream",
     "text": [
      "Done!\n"
     ]
    }
   ],
   "source": [
    "#LogReg Cross Validation Fold 2     \n",
    "\n",
    "logReg = LogisticRegression()\n",
    "y_pred = logReg.fit(cvTrainData2, cvTrainLabels2)\n",
    "#training binary values, training encoded labels\n",
    "logRegScore2 = y_pred.score(cvTestData2, cvTestLabels2)\n",
    "#testing binary values, testing encoded labels\n",
    "\n",
    "print \"Done!\""
   ]
  },
  {
   "cell_type": "code",
   "execution_count": 20,
   "metadata": {},
   "outputs": [
    {
     "name": "stdout",
     "output_type": "stream",
     "text": [
      "Done!\n"
     ]
    }
   ],
   "source": [
    "#LogReg Cross Validation Fold 3     \n",
    "\n",
    "logReg = LogisticRegression()\n",
    "y_pred = logReg.fit(cvTrainData3, cvTrainLabels3)\n",
    "#training binary values, training encoded labels\n",
    "logRegScore3 = y_pred.score(cvTestData3, cvTestLabels3)\n",
    "#testing binary values, testing encoded labels\n",
    "\n",
    "print \"Done!\""
   ]
  },
  {
   "cell_type": "code",
   "execution_count": 21,
   "metadata": {},
   "outputs": [
    {
     "name": "stdout",
     "output_type": "stream",
     "text": [
      "The accuracy score for the Logistic Regression Classifier is 0.775531754412\n"
     ]
    }
   ],
   "source": [
    "logRegScore = float((logRegScore1 + logRegScore2 + logRegScore3)/3)\n",
    "\n",
    "print \"The accuracy score for the Logistic Regression Classifier is \" + str(logRegScore)"
   ]
  },
  {
   "cell_type": "markdown",
   "metadata": {},
   "source": [
    "# Part G"
   ]
  },
  {
   "cell_type": "code",
   "execution_count": 48,
   "metadata": {},
   "outputs": [
    {
     "name": "stdout",
     "output_type": "stream",
     "text": [
      "Done!\n"
     ]
    },
    {
     "name": "stderr",
     "output_type": "stream",
     "text": [
      "/Users/eshanntoteja/anaconda2/lib/python2.7/site-packages/sklearn/preprocessing/label.py:151: DeprecationWarning: The truth value of an empty array is ambiguous. Returning False, but in future this will result in an error. Use `array.size > 0` to check that an array is not empty.\n",
      "  if diff:\n"
     ]
    }
   ],
   "source": [
    "kaggleLogReg = LogisticRegression()\n",
    "y_predKaggle = kaggleLogReg.fit(matrixTrain, labelList)\n",
    "#training binary values, training encoded labels\n",
    "kaggleLogRegEncodedOutput = y_pred.predict(matrixTest)\n",
    "#testing binary values, testing encoded labels\n",
    "kaggleLogRegOutput = labelEncoded.inverse_transform(kaggleLogRegEncodedOutput)\n",
    "\n",
    "print \"Done!\""
   ]
  },
  {
   "cell_type": "code",
   "execution_count": 44,
   "metadata": {},
   "outputs": [
    {
     "name": "stdout",
     "output_type": "stream",
     "text": [
      "Done!\n"
     ]
    }
   ],
   "source": [
    "#print parsed_test\n",
    "outputMatrix = []\n",
    "i = 0\n",
    "\n",
    "while i < len(parsed_test):\n",
    "    outputMatrix.append([parsed_test[\"id\"][i],kaggleLogRegOutput[i]])\n",
    "    i+=1\n",
    "\n",
    "     \n",
    "print \"Done!\""
   ]
  },
  {
   "cell_type": "code",
   "execution_count": 47,
   "metadata": {},
   "outputs": [
    {
     "name": "stdout",
     "output_type": "stream",
     "text": [
      "Done!\n"
     ]
    }
   ],
   "source": [
    "numpy.savetxt(\"predictions_et435_ap2296.csv\", outputMatrix, fmt=\"%s\",comments=\"\",header=\"id,cuisine\")\n",
    "\n",
    "\n",
    "print \"Done!\""
   ]
  }
 ],
 "metadata": {
  "kernelspec": {
   "display_name": "Python 2",
   "language": "python",
   "name": "python2"
  },
  "language_info": {
   "codemirror_mode": {
    "name": "ipython",
    "version": 2
   },
   "file_extension": ".py",
   "mimetype": "text/x-python",
   "name": "python",
   "nbconvert_exporter": "python",
   "pygments_lexer": "ipython2",
   "version": "2.7.15"
  }
 },
 "nbformat": 4,
 "nbformat_minor": 2
}
